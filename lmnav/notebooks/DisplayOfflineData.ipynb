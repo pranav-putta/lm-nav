{
 "cells": [
  {
   "cell_type": "code",
   "execution_count": 25,
   "id": "7fa02621-ddd5-4000-8211-63d945faffc5",
   "metadata": {},
   "outputs": [],
   "source": [
    "import gzip\n",
    "import pickle\n",
    "import os\n",
    "from habitat.utils.visualizations.utils import observations_to_image\n",
    "from habitat_baselines.utils.common import batch_obs, generate_video\n",
    "\n",
    "datadir = \"/srv/flash1/pputta7/projects/lm-nav/data/datasets/lmnav/offline_10envs_actprobs/\""
   ]
  },
  {
   "cell_type": "code",
   "execution_count": 17,
   "id": "7b0462a5-fb2b-4e5c-8a92-6a62051b6caf",
   "metadata": {},
   "outputs": [],
   "source": [
    "with gzip.open(os.path.join(datadir, \"data.0.pkl.gz\")) as f:\n",
    "    data = pickle.load(f)"
   ]
  },
  {
   "cell_type": "code",
   "execution_count": 23,
   "id": "e9ce995c-dce7-4f7d-b199-10b16d9e8e31",
   "metadata": {},
   "outputs": [],
   "source": [
    "observations = [{'rgb': data['rgb'][i], 'imagegoal': data['imagegoal'][0], 'depth': data['depth'][i]} for i in range(data['rgb'].shape[0])]\n",
    "frames = [observations_to_image(obs, {}) for obs in observations]"
   ]
  },
  {
   "cell_type": "code",
   "execution_count": 21,
   "id": "94665c8b-951a-48b3-8f08-e7206f9f9a7d",
   "metadata": {},
   "outputs": [
    {
     "data": {
      "text/plain": [
       "torch.Size([480, 640, 3])"
      ]
     },
     "execution_count": 21,
     "metadata": {},
     "output_type": "execute_result"
    }
   ],
   "source": []
  },
  {
   "cell_type": "code",
   "execution_count": 27,
   "id": "85ddd8cc-e5f4-4d02-9d56-499d1ee46750",
   "metadata": {},
   "outputs": [
    {
     "name": "stderr",
     "output_type": "stream",
     "text": [
      "2023-09-19 18:02:37,680 Video created: /srv/flash1/pputta7/projects/lm-nav/tmpvids/episode=0-ckpt=0-.mp4\n",
      "100%|██████████████████████████████████████████████████████| 13/13 [00:00<00:00, 31.73it/s]\n"
     ]
    }
   ],
   "source": [
    "generate_video(\n",
    "    video_option=['disk'],\n",
    "    video_dir='/srv/flash1/pputta7/projects/lm-nav/tmpvids',\n",
    "    images=frames,\n",
    "    episode_id=0,\n",
    "    fps=10,\n",
    "    checkpoint_idx=0,\n",
    "    metrics={},\n",
    "    tb_writer=None\n",
    ")"
   ]
  },
  {
   "cell_type": "code",
   "execution_count": null,
   "id": "219af061-91b9-421e-836f-21c8eb3cf16a",
   "metadata": {},
   "outputs": [],
   "source": []
  }
 ],
 "metadata": {
  "kernelspec": {
   "display_name": "Python 3 (ipykernel)",
   "language": "python",
   "name": "python3"
  },
  "language_info": {
   "codemirror_mode": {
    "name": "ipython",
    "version": 3
   },
   "file_extension": ".py",
   "mimetype": "text/x-python",
   "name": "python",
   "nbconvert_exporter": "python",
   "pygments_lexer": "ipython3",
   "version": "3.9.17"
  }
 },
 "nbformat": 4,
 "nbformat_minor": 5
}
