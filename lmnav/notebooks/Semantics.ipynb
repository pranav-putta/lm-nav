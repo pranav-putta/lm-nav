{
 "cells": [
  {
   "cell_type": "code",
   "execution_count": null,
   "id": "bfaa60eb-6097-4965-a762-2c23b74ed27d",
   "metadata": {},
   "outputs": [],
   "source": [
    "import habitat_sim\n",
    "\n",
    "backend_cfg = habitat_sim.SimulatorConfiguration()\n",
    "backend_cfg.scene_id = \"/srv/flash1/pputta7/projects/habitat-matterport-3dresearch/data/scene_datasets/example/00861-GLAQ4DNUx5U/GLAQ4DNUx5U.basis.glb\"\n",
    "backend_cfg.scene_dataset_config_file = \"/srv/flash1/pputta7/projects/habitat-matterport-3dresearch/data/scene_datasets/hm3d_annotated_basis.scene_dataset_config.json\"\n",
    "\n",
    "sem_cfg = habitat_sim.CameraSensorSpec()\n",
    "sem_cfg.uuid = \"semantic\"\n",
    "sem_cfg.sensor_type = habitat_sim.SensorType.SEMANTIC\n",
    "\n",
    "agent_cfg = habitat_sim.agent.AgentConfiguration()\n",
    "agent_cfg.sensor_specifications = [sem_cfg]\n",
    "\n",
    "sim_cfg = habitat_sim.Configuration(backend_cfg, [agent_cfg])\n",
    "sim = habitat_sim.Simulator(sim_cfg)"
   ]
  },
  {
   "cell_type": "code",
   "execution_count": null,
   "id": "47381906-2005-4fe8-98c2-6ddc62af4d40",
   "metadata": {},
   "outputs": [],
   "source": [
    "def print_scene_recur(scene, limit_output=10):\n",
    "    print(f\"House has {len(scene.levels)} levels, {len(scene.regions)} regions and {len(scene.objects)} objects\")\n",
    "    print(f\"House center:{scene.aabb.center} dims:{scene.aabb.sizes}\")\n",
    "\n",
    "    count = 0\n",
    "    for level in scene.levels:\n",
    "        print(\n",
    "            f\"Level id:{level.id}, center:{level.aabb.center},\"\n",
    "            f\" dims:{level.aabb.sizes}\"\n",
    "        )\n",
    "        for region in level.regions:\n",
    "            print(\n",
    "                f\"Region id:{region.id}, category:{region.category.name()},\"\n",
    "                f\" center:{region.aabb.center}, dims:{region.aabb.sizes}\"\n",
    "            )\n",
    "            for obj in region.objects:\n",
    "                print(\n",
    "                    f\"Object id:{obj.id}, category:{obj.category.name()},\"\n",
    "                    f\" center:{obj.aabb.center}, dims:{obj.aabb.sizes}\"\n",
    "                )\n",
    "                count += 1\n",
    "                if count >= limit_output:\n",
    "                    return None\n",
    "\n",
    "# Print semantic annotation information (id, category, bounding box details)\n",
    "# about levels, regions and objects in a hierarchical fashion\n",
    "scene = sim.semantic_scene\n",
    "print_scene_recur(scene)"
   ]
  },
  {
   "cell_type": "code",
   "execution_count": null,
   "id": "51a61e69-224c-4760-b9c8-c28d863c1b46",
   "metadata": {},
   "outputs": [],
   "source": []
  },
  {
   "cell_type": "code",
   "execution_count": null,
   "id": "df1e6be1-0b9d-49e5-8ff2-c8244f7d7bba",
   "metadata": {},
   "outputs": [],
   "source": []
  }
 ],
 "metadata": {
  "kernelspec": {
   "display_name": "Python 3 (ipykernel)",
   "language": "python",
   "name": "python3"
  },
  "language_info": {
   "codemirror_mode": {
    "name": "ipython",
    "version": 3
   },
   "file_extension": ".py",
   "mimetype": "text/x-python",
   "name": "python",
   "nbconvert_exporter": "python",
   "pygments_lexer": "ipython3",
   "version": "3.9.18"
  }
 },
 "nbformat": 4,
 "nbformat_minor": 5
}
