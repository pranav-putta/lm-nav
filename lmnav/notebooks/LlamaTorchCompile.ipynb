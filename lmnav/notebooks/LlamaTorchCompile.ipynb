{
 "cells": [
  {
   "cell_type": "code",
   "execution_count": 1,
   "id": "d5cfad5a-b839-4839-8e02-0d50ba7d348b",
   "metadata": {},
   "outputs": [
    {
     "name": "stderr",
     "output_type": "stream",
     "text": [
      "/coc/testnvme/pputta7/mambaforge/envs/lmnav/lib/python3.9/site-packages/transformers/utils/hub.py:123: FutureWarning: Using `TRANSFORMERS_CACHE` is deprecated and will be removed in v5 of Transformers. Use `HF_HOME` instead.\n",
      "  warnings.warn(\n"
     ]
    },
    {
     "name": "stdout",
     "output_type": "stream",
     "text": [
      "[2023-12-22 14:08:25,416] [INFO] [real_accelerator.py:110:get_accelerator] Setting ds_accelerator to cuda (auto detect)\n"
     ]
    }
   ],
   "source": [
    "from lmnav.models.modeling_llama import LlamaForCausalLM\n",
    "import torch\n",
    "from torch.nn import functional as F\n",
    "from transformers import LlamaTokenizer\n",
    "from lmnav.common.utils import catchtime\n",
    "from lmnav.models.modeling_clip import CLIPVisionModel \n",
    "# from transformers import CLIPVisionModel\n",
    "from lmnav.common.utils import convert_weights_to_fp16"
   ]
  },
  {
   "cell_type": "code",
   "execution_count": 2,
   "id": "2a44890c-502b-4f20-a9f4-ee6af0afe97f",
   "metadata": {},
   "outputs": [
    {
     "data": {
      "application/vnd.jupyter.widget-view+json": {
       "model_id": "7bb68687477a4dc98c7c3a5bb86d89e0",
       "version_major": 2,
       "version_minor": 0
      },
      "text/plain": [
       "Downloading shards:   0%|          | 0/2 [00:00<?, ?it/s]"
      ]
     },
     "metadata": {},
     "output_type": "display_data"
    },
    {
     "data": {
      "application/vnd.jupyter.widget-view+json": {
       "model_id": "a9d0534a7aa14c7c8499fe71ffbf3bac",
       "version_major": 2,
       "version_minor": 0
      },
      "text/plain": [
       "Loading checkpoint shards:   0%|          | 0/2 [00:00<?, ?it/s]"
      ]
     },
     "metadata": {},
     "output_type": "display_data"
    }
   ],
   "source": [
    "model = LlamaForCausalLM.from_pretrained(\"meta-llama/Llama-2-7b-hf\", torch_dtype=torch.bfloat16).cuda()\n",
    "tokenizer = LlamaTokenizer.from_pretrained(\"meta-llama/Llama-2-7b-hf\", torch_dtype=torch.bfloat16)\n",
    "model.eval()\n",
    "\n",
    "for p in model.parameters():\n",
    "    p.requires_grad = False"
   ]
  },
  {
   "cell_type": "code",
   "execution_count": 4,
   "id": "d86959e0-97e7-49be-a9ed-1c83dc804612",
   "metadata": {},
   "outputs": [
    {
     "data": {
      "text/plain": [
       "torch.Size([10, 3, 4096])"
      ]
     },
     "execution_count": 4,
     "metadata": {},
     "output_type": "execute_result"
    }
   ],
   "source": [
    "input_ids = tokenizer(\"hello what\", return_tensors='pt').input_ids.repeat(10, 1).cuda()\n",
    "input_embds = model.get_input_embeddings()(input_ids)\n",
    "input_embds.shape"
   ]
  },
  {
   "cell_type": "code",
   "execution_count": 11,
   "id": "fbf93c3b-60f7-430c-bf7c-e9d245ca5d0c",
   "metadata": {
    "scrolled": true
   },
   "outputs": [
    {
     "name": "stdout",
     "output_type": "stream",
     "text": [
      "TimeIt [test]: 0.034 seconds\n"
     ]
    }
   ],
   "source": [
    "with catchtime(\"test\"):\n",
    "    data = model(inputs_embeds=input_embds)"
   ]
  },
  {
   "cell_type": "code",
   "execution_count": 7,
   "id": "6f1aa005-86b0-42fc-bfd1-f8a2adaab846",
   "metadata": {},
   "outputs": [],
   "source": [
    "backbone = CLIPVisionModel.from_pretrained(\"openai/clip-vit-large-patch14\", torch_dtype=torch.bfloat16).cuda()\n",
    "# convert_weights_to_fp16(backbone)\n",
    "backbone.eval()\n",
    "\n",
    "for p in backbone.parameters():\n",
    "    p.requires_grad = False"
   ]
  },
  {
   "cell_type": "code",
   "execution_count": 11,
   "id": "d9a50fa4-46e1-4cf7-87f3-252af93ea498",
   "metadata": {
    "scrolled": true
   },
   "outputs": [
    {
     "name": "stdout",
     "output_type": "stream",
     "text": [
      "TimeIt [image encodings]: 0.027 seconds\n"
     ]
    }
   ],
   "source": [
    "envs = 10\n",
    "imgs = torch.rand(envs, 3, 224, 224).cuda()\n",
    "with catchtime(\"image encodings\"):\n",
    "    out = backbone(pixel_values=imgs)\n",
    "\n",
    "torch.save(out, 'tmp_hf.pt')\n",
    "# torch.save(out, 'tmp_fa.pt')"
   ]
  },
  {
   "cell_type": "code",
   "execution_count": 13,
   "id": "3e14863e-48fb-4b4b-8c22-74fec914c54e",
   "metadata": {},
   "outputs": [],
   "source": [
    "x = torch.load('tmp_hf.pt')\n",
    "y = torch.load('tmp_fa.pt')"
   ]
  },
  {
   "cell_type": "code",
   "execution_count": 16,
   "id": "943cb063-0086-4ff8-b8cb-0f957d5325b1",
   "metadata": {},
   "outputs": [
    {
     "data": {
      "text/plain": [
       "False"
      ]
     },
     "execution_count": 16,
     "metadata": {},
     "output_type": "execute_result"
    }
   ],
   "source": [
    "torch.allclose(x.pooler_output, y.pooler_output, atol=1e-1, rtol=1e-1)"
   ]
  },
  {
   "cell_type": "code",
   "execution_count": 19,
   "id": "0ac9c7f1-def9-4efa-aefc-aa84303aebba",
   "metadata": {},
   "outputs": [
    {
     "data": {
      "text/plain": [
       "tensor(0.0986, device='cuda:0', dtype=torch.bfloat16)"
      ]
     },
     "execution_count": 19,
     "metadata": {},
     "output_type": "execute_result"
    }
   ],
   "source": [
    "torch.sqrt(torch.var(torch.abs(x.pooler_output - y.pooler_output)))"
   ]
  },
  {
   "cell_type": "code",
   "execution_count": 20,
   "id": "c153f38e-55c7-4b39-b470-99fed99f1dfa",
   "metadata": {},
   "outputs": [
    {
     "data": {
      "text/plain": [
       "tensor([[ 0.0247, -0.0547,  0.1406,  ..., -0.1797,  0.0391, -0.0889],\n",
       "        [ 0.1006,  0.0156,  0.0703,  ..., -0.0547, -0.0273, -0.0552],\n",
       "        [ 0.1787, -0.3125,  0.2578,  ...,  0.0352, -0.2070,  0.0391],\n",
       "        ...,\n",
       "        [ 0.0840, -0.1172,  0.1992,  ...,  0.0781, -0.2070,  0.0508],\n",
       "        [ 0.0630, -0.1875,  0.3184,  ..., -0.0234, -0.0078, -0.1104],\n",
       "        [ 0.0186, -0.0312,  0.0156,  ...,  0.0156,  0.0430, -0.0845]],\n",
       "       device='cuda:0', dtype=torch.bfloat16)"
      ]
     },
     "execution_count": 20,
     "metadata": {},
     "output_type": "execute_result"
    }
   ],
   "source": [
    "x.pooler_output - y.pooler_output"
   ]
  },
  {
   "cell_type": "code",
   "execution_count": 21,
   "id": "cec28106-e8c1-42c0-9107-ceb5adc1dac1",
   "metadata": {},
   "outputs": [
    {
     "data": {
      "text/plain": [
       "tensor([[-0.0530,  1.2734,  0.6875,  ..., -0.9062, -0.8828,  0.1631],\n",
       "        [ 0.0757,  1.1094,  0.7969,  ..., -0.8711, -0.9883,  0.0845],\n",
       "        [ 0.2715,  0.7969,  0.9141,  ..., -0.5430, -1.0938,  0.2539],\n",
       "        ...,\n",
       "        [ 0.0537,  1.0625,  0.8398,  ..., -0.7031, -1.0078,  0.3574],\n",
       "        [ 0.0718,  1.0078,  0.7852,  ..., -0.7930, -0.8359,  0.0593],\n",
       "        [ 0.1309,  1.0625,  0.6914,  ..., -0.7617, -0.9023,  0.0796]],\n",
       "       device='cuda:0', dtype=torch.bfloat16)"
      ]
     },
     "execution_count": 21,
     "metadata": {},
     "output_type": "execute_result"
    }
   ],
   "source": [
    "x.pooler_output"
   ]
  },
  {
   "cell_type": "code",
   "execution_count": null,
   "id": "cd9d63ab-7cc9-49b6-8476-fb2dbc4b588d",
   "metadata": {},
   "outputs": [],
   "source": []
  }
 ],
 "metadata": {
  "kernelspec": {
   "display_name": "Python 3 (ipykernel)",
   "language": "python",
   "name": "python3"
  },
  "language_info": {
   "codemirror_mode": {
    "name": "ipython",
    "version": 3
   },
   "file_extension": ".py",
   "mimetype": "text/x-python",
   "name": "python",
   "nbconvert_exporter": "python",
   "pygments_lexer": "ipython3",
   "version": "3.9.17"
  }
 },
 "nbformat": 4,
 "nbformat_minor": 5
}
