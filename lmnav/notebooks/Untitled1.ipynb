{
 "cells": [
  {
   "cell_type": "code",
   "execution_count": 3,
   "id": "4f9af48f-3ecf-4c70-8452-28d9ccddb73f",
   "metadata": {},
   "outputs": [],
   "source": [
    "from flash_attn import flash_attn_with_kvcache\n",
    "import torch\n",
    "from torch.nn import functional as F"
   ]
  },
  {
   "cell_type": "code",
   "execution_count": 72,
   "id": "68d00137-8983-4b23-9427-15a8d30054a3",
   "metadata": {},
   "outputs": [
    {
     "data": {
      "text/plain": [
       "(torch.Size([3, 5, 32, 128]),\n",
       " torch.Size([3, 30, 32, 128]),\n",
       " torch.Size([3, 30, 32, 128]))"
      ]
     },
     "execution_count": 72,
     "metadata": {},
     "output_type": "execute_result"
    }
   ],
   "source": [
    "lengths = torch.tensor([0, 0, 0]).to(torch.int32).cuda()\n",
    "\n",
    "q = torch.rand(3, 5, 32, 128).to(torch.bfloat16).cuda()\n",
    "k = torch.rand(3, 5, 32, 128).to(torch.bfloat16).cuda()\n",
    "v = torch.rand(3, 5, 32, 128).to(torch.bfloat16).cuda()\n",
    "\n",
    "ks, vs = [], []\n",
    "for length in lengths:\n",
    "    ks.append(torch.rand(1, length, 32, 128).to(torch.bfloat16).cuda())\n",
    "    vs.append(torch.rand(1, length, 32, 128).to(torch.bfloat16).cuda())\n",
    "\n",
    "k_cache = torch.cat([F.pad(ks[i], (0, 0, 0, 0, 0, 30 - lengths[i])) for i in range(3)])\n",
    "v_cache = torch.cat([F.pad(vs[i], (0, 0, 0, 0, 0, 30 - lengths[i])) for i in range(3)])\n",
    "\n",
    "q = q.to(torch.bfloat16).cuda()\n",
    "k_cache = k_cache.to(torch.bfloat16).cuda()\n",
    "v_cache = v_cache.to(torch.bfloat16).cuda()\n",
    "q.shape, k_cache.shape, v_cache.shape"
   ]
  },
  {
   "cell_type": "code",
   "execution_count": 73,
   "id": "1abb12fa-0d25-4401-b5d2-55c68ab9748b",
   "metadata": {},
   "outputs": [],
   "source": [
    "k_cache = torch.zeros(3, 100, 32, 128).to(torch.bfloat16).cuda()\n",
    "v_cache = torch.zeros(3, 100, 32, 128).to(torch.bfloat16).cuda()"
   ]
  },
  {
   "cell_type": "code",
   "execution_count": 74,
   "id": "fe204317-9e99-4b40-a9c5-3057f5736d9f",
   "metadata": {},
   "outputs": [
    {
     "data": {
      "text/plain": [
       "torch.Size([3, 5, 32, 128])"
      ]
     },
     "execution_count": 74,
     "metadata": {},
     "output_type": "execute_result"
    }
   ],
   "source": [
    "separate = []\n",
    "for i in range(3):\n",
    "    s = slice(i, i+1)\n",
    "    attnout = flash_attn_with_kvcache(q[s], ks[i], vs[i], causal=True)\n",
    "    separate.append(attnout)\n",
    "separate = torch.cat(separate)\n",
    "separate.shape"
   ]
  },
  {
   "cell_type": "code",
   "execution_count": 75,
   "id": "3d633e94-5e4c-44fd-b490-98bfcfc3517a",
   "metadata": {
    "scrolled": true
   },
   "outputs": [
    {
     "data": {
      "text/plain": [
       "torch.Size([3, 5, 32, 128])"
      ]
     },
     "execution_count": 75,
     "metadata": {},
     "output_type": "execute_result"
    }
   ],
   "source": [
    "together = flash_attn_with_kvcache(q, k_cache, v_cache, k=k, v=v,causal=True, cache_seqlens=lengths)\n",
    "together.shape"
   ]
  },
  {
   "cell_type": "code",
   "execution_count": 76,
   "id": "c34b8ca6-0eed-4ba4-a4c3-61097a464821",
   "metadata": {},
   "outputs": [
    {
     "data": {
      "text/plain": [
       "False"
      ]
     },
     "execution_count": 76,
     "metadata": {},
     "output_type": "execute_result"
    }
   ],
   "source": [
    "torch.allclose(separate, together, atol=1e-3, rtol=1e-3)"
   ]
  },
  {
   "cell_type": "code",
   "execution_count": 77,
   "id": "c4486778-8922-4c97-8242-459bd45bc806",
   "metadata": {},
   "outputs": [
    {
     "data": {
      "text/plain": [
       "(tensor([0, 0, 0,  ..., 4, 4, 4], device='cuda:0'),\n",
       " tensor([ 0,  0,  0,  ..., 31, 31, 31], device='cuda:0'),\n",
       " tensor([  0,   1,   2,  ..., 125, 126, 127], device='cuda:0'))"
      ]
     },
     "execution_count": 77,
     "metadata": {},
     "output_type": "execute_result"
    }
   ],
   "source": [
    "torch.where(k_cache[0] != 0)"
   ]
  },
  {
   "cell_type": "code",
   "execution_count": 81,
   "id": "3d786177-f9e9-40a1-9539-0db58240f18c",
   "metadata": {},
   "outputs": [
    {
     "data": {
      "text/plain": [
       "tensor([[6.9141e-01, 2.6562e-01, 3.8672e-01,  ..., 7.7344e-01, 8.8672e-01,\n",
       "         8.5547e-01],\n",
       "        [5.1953e-01, 1.1816e-01, 6.1279e-02,  ..., 2.9297e-01, 8.7402e-02,\n",
       "         3.1641e-01],\n",
       "        [6.6016e-01, 8.3984e-01, 5.2734e-01,  ..., 4.2773e-01, 5.6641e-01,\n",
       "         7.8516e-01],\n",
       "        ...,\n",
       "        [2.2559e-01, 9.7168e-02, 3.6523e-01,  ..., 9.6484e-01, 9.1016e-01,\n",
       "         8.1250e-01],\n",
       "        [3.2812e-01, 1.0000e+00, 9.4922e-01,  ..., 9.1797e-01, 9.4922e-01,\n",
       "         4.8438e-01],\n",
       "        [9.3359e-01, 1.2061e-01, 2.3926e-01,  ..., 4.1260e-02, 9.1934e-04,\n",
       "         5.8594e-01]], device='cuda:0', dtype=torch.bfloat16)"
      ]
     },
     "execution_count": 81,
     "metadata": {},
     "output_type": "execute_result"
    }
   ],
   "source": [
    "k_cache[0, 1]"
   ]
  },
  {
   "cell_type": "code",
   "execution_count": 63,
   "id": "d4d244a2-4638-436c-badb-acef01f5c0d6",
   "metadata": {},
   "outputs": [
    {
     "data": {
      "text/plain": [
       "torch.Size([3, 100, 32, 128])"
      ]
     },
     "execution_count": 63,
     "metadata": {},
     "output_type": "execute_result"
    }
   ],
   "source": [
    "k_cache.shape"
   ]
  },
  {
   "cell_type": "code",
   "execution_count": null,
   "id": "1f5674d3-86b0-4298-a4a1-f3982ad24717",
   "metadata": {},
   "outputs": [],
   "source": []
  }
 ],
 "metadata": {
  "kernelspec": {
   "display_name": "Python 3 (ipykernel)",
   "language": "python",
   "name": "python3"
  },
  "language_info": {
   "codemirror_mode": {
    "name": "ipython",
    "version": 3
   },
   "file_extension": ".py",
   "mimetype": "text/x-python",
   "name": "python",
   "nbconvert_exporter": "python",
   "pygments_lexer": "ipython3",
   "version": "3.9.17"
  }
 },
 "nbformat": 4,
 "nbformat_minor": 5
}
