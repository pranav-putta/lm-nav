{
 "cells": [
  {
   "cell_type": "code",
   "execution_count": 1,
   "id": "f1163898-2306-4bda-b536-ad60965e7516",
   "metadata": {},
   "outputs": [
    {
     "name": "stdout",
     "output_type": "stream",
     "text": [
      "[2023-10-25 17:24:31,617] [INFO] [real_accelerator.py:110:get_accelerator] Setting ds_accelerator to cuda (auto detect)\n"
     ]
    }
   ],
   "source": [
    "from lmnav.config.default import get_config\n",
    "from habitat.core.registry import registry as registry\n",
    "from lmnav.common.actor_setups import setup_karmesh_eai_teacher\n",
    "from functools import partial\n",
    "import pickle\n",
    "import os\n",
    "import torch.multiprocessing as mp\n",
    "import gc\n",
    "import torch\n",
    "import copy\n",
    "import pympler as muppy\n",
    "import numpy as np\n",
    "from collections import namedtuple\n",
    "import cv2\n",
    "from tqdm import tqdm\n",
    "\n",
    "os.chdir(\"/srv/flash1/pputta7/projects/lm-nav\")"
   ]
  },
  {
   "cell_type": "markdown",
   "id": "503d0660-ac14-4b05-a8a3-6c3280fdf73a",
   "metadata": {},
   "source": [
    "## Util Stuff"
   ]
  },
  {
   "cell_type": "code",
   "execution_count": 2,
   "id": "10e175a3-3444-4248-a8a1-4bb9aa6fdc46",
   "metadata": {},
   "outputs": [],
   "source": [
    "import gzip\n",
    "import pickle\n",
    "import os\n",
    "import numpy as np\n",
    "from habitat_baselines.utils.common import batch_obs, generate_video\n",
    "from habitat.core.logging import logger\n",
    "from habitat.core.utils import try_cv2_import,tile_images\n",
    "from habitat.utils.common import flatten_dict\n",
    "from habitat.utils.visualizations import maps\n",
    "import cv2\n",
    "\n",
    "def observations_to_image(observation, info) :\n",
    "    r\"\"\"Generate image of single frame from observation and info\n",
    "    returned from a single environment step().\n",
    "\n",
    "    Args:\n",
    "        observation: observation returned from an environment step().\n",
    "        info: info returned from an environment step().\n",
    "\n",
    "    Returns:\n",
    "        generated image of a single frame.\n",
    "    \"\"\"\n",
    "    render_obs_images = []\n",
    "    for sensor_name in observation:\n",
    "        if len(observation[sensor_name].shape) > 1:\n",
    "            obs_k = observation[sensor_name]\n",
    "            if not isinstance(obs_k, np.ndarray):\n",
    "                obs_k = obs_k.cpu().numpy()\n",
    "            if obs_k.dtype != np.uint8:\n",
    "                obs_k = obs_k * 255.0\n",
    "                obs_k = obs_k.astype(np.uint8)\n",
    "            if obs_k.shape[2] == 1:\n",
    "                obs_k = np.concatenate([obs_k for _ in range(3)], axis=2)\n",
    "            render_obs_images.append(obs_k)\n",
    "\n",
    "    assert (\n",
    "        len(render_obs_images) > 0\n",
    "    ), \"Expected at least one visual sensor enabled.\"\n",
    "\n",
    "    shapes_are_equal = len(set(x.shape for x in render_obs_images)) == 1\n",
    "    if not shapes_are_equal:\n",
    "        render_frame = tile_images(render_obs_images)\n",
    "    else:\n",
    "        render_frame = np.concatenate(render_obs_images, axis=1)\n",
    "\n",
    "    # draw collision\n",
    "    collisions_key = \"collisions\"\n",
    "    if collisions_key in info and info[collisions_key][\"is_collision\"]:\n",
    "        render_frame = draw_collision(render_frame)\n",
    "\n",
    "    top_down_map_key = \"top_down_map\"\n",
    "    if top_down_map_key in info:\n",
    "        top_down_map = maps.colorize_draw_agent_and_fit_to_height(\n",
    "            info[top_down_map_key], render_frame.shape[0]\n",
    "        )\n",
    "        render_frame = np.concatenate((render_frame, top_down_map), axis=1)\n",
    "\n",
    "    action_prob_keys = \"act_probs\"\n",
    "    if action_prob_keys in info:\n",
    "        ap = info[action_prob_keys].tolist()\n",
    "        txt = \" \".join([f\"{a}: {p:.2f}\" for a, p in zip(\"SFLR\", ap)])\n",
    "        render_frame = draw_text_box(render_frame, txt, 0, -200)\n",
    "\n",
    "    frame_idx_key = \"frame_idx\"\n",
    "    if frame_idx_key in info:\n",
    "        render_frame = draw_text_box(render_frame, f\"Frame: {info[frame_idx_key]}\", 0, -150)\n",
    "    \n",
    "    return render_frame\n",
    "\n",
    "\n",
    "import cv2\n",
    "import numpy as np\n",
    "\n",
    "def draw_text_box(frame, text, x_offset, y_offset):\n",
    "    # Convert frame to BGR format (OpenCV uses BGR by default)\n",
    "    frame = cv2.cvtColor(frame, cv2.COLOR_RGB2BGR)\n",
    "\n",
    "    # Define font parameters\n",
    "    font = cv2.FONT_HERSHEY_SIMPLEX\n",
    "    font_scale = 1\n",
    "    font_color = (255, 255, 255)  # White color\n",
    "    font_thickness = 2\n",
    "\n",
    "    # Get the size of the text\n",
    "    text_size = cv2.getTextSize(text, font, font_scale, font_thickness)[0]\n",
    "    \n",
    "    # Calculate the size of the text box\n",
    "    box_width = text_size[0] + 20  # Add some padding\n",
    "    box_height = text_size[1] + 20  # Add some padding\n",
    "\n",
    "    # Calculate the center of the frame\n",
    "    center_x = frame.shape[1] // 2\n",
    "    center_y = frame.shape[0] // 2\n",
    "\n",
    "    # Calculate the coordinates to center the box with offsets\n",
    "    box_x = center_x - (box_width // 2) + x_offset\n",
    "    box_y = center_y - (box_height // 2) + y_offset\n",
    "\n",
    "    # Draw the box\n",
    "    cv2.rectangle(frame, (box_x, box_y), (box_x + box_width, box_y + box_height), (0, 0, 255), -1)\n",
    "\n",
    "    # Calculate the position to center the text\n",
    "    text_x = box_x + 10  # Add some left padding\n",
    "    text_y = box_y + text_size[1] + 10  # Add some top padding\n",
    "\n",
    "    # Put the text on the frame\n",
    "    cv2.putText(frame, text, (text_x, text_y), font, font_scale, font_color, font_thickness)\n",
    "\n",
    "    return frame\n",
    "\n",
    "def construct_vid(observations):\n",
    "    frames = [observations_to_image(obs['observation'], {'act_probs': obs['probs'], 'top_down_map': obs['info']['top_down_map'], 'frame_idx': i}) for i, obs in enumerate(observations)]\n",
    "    return frames"
   ]
  },
  {
   "cell_type": "code",
   "execution_count": 12,
   "id": "ee857a04-2884-41b1-bdb7-c609f43d6f15",
   "metadata": {
    "scrolled": true
   },
   "outputs": [
    {
     "name": "stderr",
     "output_type": "stream",
     "text": [
      "2023-10-25 17:27:13,863 Initializing dataset PointNav-v1\n"
     ]
    },
    {
     "name": "stdout",
     "output_type": "stream",
     "text": [
      "Initializing environment on gpu: 0\n",
      "[2023-10-25 17:27:19,572] [INFO] [real_accelerator.py:110:get_accelerator] Setting ds_accelerator to cuda (auto detect)\n"
     ]
    },
    {
     "name": "stderr",
     "output_type": "stream",
     "text": [
      "2023-10-25 17:27:20,036 Initializing dataset PointNav-v1\n",
      "2023-10-25 17:27:23,531 initializing sim Sim-v0\n",
      "2023-10-25 17:27:25,035 Initializing task Nav-v0\n"
     ]
    }
   ],
   "source": [
    "config = get_config(\"datagen/imagenav_karmesh_data_gen_10envs\")\n",
    "config.habitat_baselines.num_environments = 1\n",
    "config.habitat.simulator.agents.main_agent.sim_sensors.rgb_sensor.width = 256\n",
    "config.habitat.simulator.agents.main_agent.sim_sensors.rgb_sensor.height = 256\n",
    "\n",
    "env = make_gym_from_config(config)"
   ]
  },
  {
   "cell_type": "markdown",
   "id": "e0a13e40-9ef6-445e-a875-c0cadb7fe84e",
   "metadata": {},
   "source": [
    "## Fun Stuff"
   ]
  },
  {
   "cell_type": "code",
   "execution_count": 15,
   "id": "641a314c-f4f3-48f2-a3ef-e5122a2b8e9b",
   "metadata": {},
   "outputs": [
    {
     "data": {
      "text/plain": [
       "['__annotations__',\n",
       " '__class__',\n",
       " '__del__',\n",
       " '__delattr__',\n",
       " '__dict__',\n",
       " '__dir__',\n",
       " '__doc__',\n",
       " '__enter__',\n",
       " '__eq__',\n",
       " '__exit__',\n",
       " '__format__',\n",
       " '__ge__',\n",
       " '__getattribute__',\n",
       " '__gt__',\n",
       " '__hash__',\n",
       " '__init__',\n",
       " '__init_subclass__',\n",
       " '__le__',\n",
       " '__lt__',\n",
       " '__module__',\n",
       " '__ne__',\n",
       " '__new__',\n",
       " '__reduce__',\n",
       " '__reduce_ex__',\n",
       " '__repr__',\n",
       " '__setattr__',\n",
       " '__sizeof__',\n",
       " '__str__',\n",
       " '__subclasshook__',\n",
       " '__weakref__',\n",
       " '_auto_reset_done',\n",
       " '_batch_renderer',\n",
       " '_connection_read_fns',\n",
       " '_connection_write_fns',\n",
       " '_is_closed',\n",
       " '_mp_ctx',\n",
       " '_num_envs',\n",
       " '_paused',\n",
       " '_spawn_workers',\n",
       " '_valid_start_methods',\n",
       " '_warn_cuda_tensors',\n",
       " '_worker_env',\n",
       " '_workers',\n",
       " 'action_spaces',\n",
       " 'async_step',\n",
       " 'async_step_at',\n",
       " 'call',\n",
       " 'call_at',\n",
       " 'close',\n",
       " 'count_episodes',\n",
       " 'current_episodes',\n",
       " 'episode_over',\n",
       " 'get_metrics',\n",
       " 'initialize_batch_renderer',\n",
       " 'num_envs',\n",
       " 'number_of_episodes',\n",
       " 'observation_spaces',\n",
       " 'orig_action_spaces',\n",
       " 'pause_at',\n",
       " 'post_step',\n",
       " 'render',\n",
       " 'reset',\n",
       " 'reset_at',\n",
       " 'resume_all',\n",
       " 'step',\n",
       " 'step_at',\n",
       " 'wait_step',\n",
       " 'wait_step_at']"
      ]
     },
     "execution_count": 15,
     "metadata": {},
     "output_type": "execute_result"
    }
   ],
   "source": [
    "@registry.register_dataset(name=\"Traj-v1\")"
   ]
  },
  {
   "cell_type": "code",
   "execution_count": 4,
   "id": "d07ccf3b-f364-4ef3-9aee-864e663faf8b",
   "metadata": {},
   "outputs": [
    {
     "name": "stderr",
     "output_type": "stream",
     "text": [
      "2023-10-25 17:24:40,373 Resizing observation of imagegoal: from (256, 256) to (128, 128)\n",
      "2023-10-25 17:24:40,375 Resizing observation of rgb: from (256, 256) to (128, 128)\n"
     ]
    },
    {
     "name": "stdout",
     "output_type": "stream",
     "text": [
      "setting up eai teacher...\n",
      "done setting up eai teacher...\n"
     ]
    }
   ],
   "source": [
    "benv = env.env.env\n",
    "episodes = benv._env._dataset.episodes\n",
    "\n",
    "class EnvSpec:\n",
    "    def __init__(self, a, b):\n",
    "        self.observation_space = a\n",
    "        self.action_space = b\n",
    "env_spec = EnvSpec(a = env.observation_space, b=env.action_space)\n",
    "teacher = setup_karmesh_eai_teacher(config, env_spec)"
   ]
  },
  {
   "cell_type": "code",
   "execution_count": 5,
   "id": "74bccc62-a49e-4e21-a3e8-0ae3b4eca77e",
   "metadata": {
    "scrolled": true
   },
   "outputs": [
    {
     "name": "stdout",
     "output_type": "stream",
     "text": [
      "500 5.595616340637207\n",
      "501 5.997106075286865\n",
      "502 2.7102558612823486\n",
      "503 5.709062576293945\n",
      "504 1.7343171834945679\n",
      "505 3.284414291381836\n",
      "506 6.315406799316406\n",
      "507 4.062166213989258\n",
      "508 7.062810897827148\n",
      "509 2.6766138076782227\n",
      "510 2.8801445960998535\n",
      "511 3.9378085136413574\n",
      "512 2.838696002960205\n",
      "513 1.7967090606689453\n",
      "514 4.623208045959473\n",
      "515 4.853151321411133\n",
      "516 1.7752342224121094\n",
      "517 2.3214571475982666\n",
      "518 2.684134006500244\n",
      "519 3.126512050628662\n",
      "520 6.016928672790527\n",
      "521 5.558073043823242\n",
      "522 8.48515796661377\n",
      "523 2.5445902347564697\n",
      "524 8.202153205871582\n",
      "525 8.590860366821289\n",
      "526 2.6534128189086914\n",
      "527 5.188305854797363\n",
      "528 6.628355026245117\n",
      "529 5.193456649780273\n",
      "530 3.897495985031128\n",
      "531 2.621054172515869\n",
      "532 2.80124568939209\n",
      "533 8.730704307556152\n",
      "534 1.6467349529266357\n",
      "535 2.4605085849761963\n",
      "536 6.891119003295898\n",
      "537 3.5499463081359863\n",
      "538 4.244623184204102\n",
      "539 9.6370849609375\n",
      "540 3.4414634704589844\n",
      "541 6.938620567321777\n",
      "542 2.454442024230957\n",
      "543 4.432961940765381\n",
      "544 2.6833109855651855\n",
      "545 4.393125534057617\n",
      "546 2.813181161880493\n",
      "547 1.7825827598571777\n",
      "548 6.539923191070557\n",
      "549 2.6113181114196777\n",
      "550 9.497905731201172\n",
      "551 3.204984426498413\n",
      "552 4.441009044647217\n",
      "553 4.910305023193359\n",
      "554 2.3012826442718506\n",
      "555 1.654530644416809\n",
      "556 1.964945912361145\n",
      "557 6.118203639984131\n",
      "558 3.3058745861053467\n",
      "559 2.2074880599975586\n",
      "560 1.8272439241409302\n",
      "561 5.591878890991211\n",
      "562 2.903867483139038\n",
      "563 2.112546682357788\n",
      "564 5.0611772537231445\n",
      "565 4.903779029846191\n",
      "566 6.464353561401367\n",
      "567 2.0543124675750732\n",
      "568 8.740142822265625\n",
      "569 8.850287437438965\n",
      "570 2.8321545124053955\n",
      "571 4.588832378387451\n",
      "572 9.667337417602539\n",
      "573 7.291196823120117\n",
      "574 2.9388582706451416\n",
      "575 2.857755184173584\n",
      "576 2.9078516960144043\n",
      "577 2.583622694015503\n",
      "578 8.727436065673828\n",
      "579 9.51119327545166\n",
      "580 4.944252967834473\n",
      "581 4.1548566818237305\n",
      "582 1.9113730192184448\n",
      "583 3.4157748222351074\n",
      "584 4.57096004486084\n",
      "585 8.661175727844238\n",
      "586 8.787973403930664\n",
      "587 7.438737869262695\n",
      "588 2.261080026626587\n",
      "589 3.600529670715332\n",
      "590 9.974861145019531\n",
      "591 4.89639949798584\n",
      "592 1.8388075828552246\n",
      "593 2.724120616912842\n",
      "594 3.600811004638672\n",
      "595 4.165227890014648\n",
      "596 7.017093658447266\n",
      "597 6.984554290771484\n",
      "598 9.550422668457031\n",
      "599 3.028804063796997\n"
     ]
    }
   ],
   "source": [
    "for i, episode in enumerate(episodes[500:600], start=500):\n",
    "    print(i, episode.info['geodesic_distance'])"
   ]
  },
  {
   "cell_type": "code",
   "execution_count": 32,
   "id": "c2bc6b9b-e0c4-4be8-afe4-0698a74c7621",
   "metadata": {
    "scrolled": true
   },
   "outputs": [],
   "source": [
    "def gen_obs(idx):\n",
    "    env.env.env._env.current_episode = episodes[idx]\n",
    "    env.env.env._env._episode_from_iter_on_reset = False\n",
    "    actor = teacher.action_generator(1, deterministic=False)\n",
    "    obs = env.reset()\n",
    "    done = False\n",
    "    step = 0\n",
    "    \n",
    "    data = []\n",
    "    with tqdm(total=500) as pbar:\n",
    "        while not done or step >= 500: \n",
    "            # roll out a step\n",
    "            next(actor)\n",
    "            actions, probs = actor.send(([obs], [done]))\n",
    "            step_data = [a.item() for a in actions.cpu()]\n",
    "        \n",
    "            outputs = env.step(step_data[0])\n",
    "            next_observations, rewards_l, done, infos = outputs\n",
    "        \n",
    "            # insert episode into list\n",
    "            \n",
    "            data.append({\n",
    "                   'observation': {k: torch.from_numpy(v).clone() for k, v in obs.items() if k != \"depth\"},\n",
    "                    'reward': rewards_l,\n",
    "                    'info': {k: torch.from_numpy(v).clone() if isinstance(v, np.ndarray) else v for k, v in infos.items()},\n",
    "                    'action': step_data,\n",
    "                    'probs': probs[0].cpu()\n",
    "                })\n",
    "            obs = next_observations\n",
    "            step += 1\n",
    "\n",
    "            pbar.update(1)\n",
    "        \n",
    "        print(\"Done in\", step, \"steps\")\n",
    "    return data"
   ]
  },
  {
   "cell_type": "code",
   "execution_count": 33,
   "id": "2183ea8a-abe6-4841-b05e-eabe955f5fe2",
   "metadata": {},
   "outputs": [
    {
     "name": "stderr",
     "output_type": "stream",
     "text": [
      "[14:31:12:518201]:[Warning]:[Assets] ResourceManager.cpp(353)::loadSemanticSceneDescriptor : SSD File Naming Issue! Neither SceneInstanceAttributes-provided name : `data/scene_datasets/hm3d/train/00494-5737gQA9p2T/5737gQA9p2T.basis.scn` nor constructed filename : `data/scene_datasets/hm3d/train/00494-5737gQA9p2T/info_semantic.json` exist on disk.\n",
      "[14:31:13:515108]:[Warning]:[Sim] Simulator.cpp(508)::instanceStageForSceneAttributes : The active scene does not contain semantic annotations : activeSemanticSceneID_ = 0\n",
      "  0%|                                                                | 0/500 [00:00<?, ?it/s]/coc/testnvme/pputta7/mambaforge/envs/lmnav/lib/python3.9/site-packages/torchvision/transforms/functional.py:1603: UserWarning: The default value of the antialias parameter of all the resizing transforms (Resize(), RandomResizedCrop(), etc.) will change from None to True in v0.17, in order to be consistent across the PIL and Tensor backends. To suppress this warning, directly pass antialias=True (recommended, future default), antialias=None (current default, which means False for Tensors and True for PIL), or antialias=False (only works on Tensors - PIL will still use antialiasing). This also applies if you are using the inference transforms from the models weights: update the call to weights.transforms(antialias=True).\n",
      "  warnings.warn(\n",
      " 16%|████████▊                                              | 80/500 [00:05<00:28, 14.53it/s]\n"
     ]
    },
    {
     "name": "stdout",
     "output_type": "stream",
     "text": [
      "Done in 80 steps\n"
     ]
    },
    {
     "name": "stderr",
     "output_type": "stream",
     "text": [
      "  7%|████                                                   | 37/500 [00:02<00:31, 14.68it/s]\n"
     ]
    },
    {
     "name": "stdout",
     "output_type": "stream",
     "text": [
      "Done in 37 steps\n"
     ]
    },
    {
     "name": "stderr",
     "output_type": "stream",
     "text": [
      " 11%|██████                                                 | 55/500 [00:03<00:30, 14.70it/s]\n"
     ]
    },
    {
     "name": "stdout",
     "output_type": "stream",
     "text": [
      "Done in 55 steps\n"
     ]
    },
    {
     "name": "stderr",
     "output_type": "stream",
     "text": [
      "  8%|████▎                                                  | 39/500 [00:02<00:31, 14.57it/s]\n"
     ]
    },
    {
     "name": "stdout",
     "output_type": "stream",
     "text": [
      "Done in 39 steps\n"
     ]
    },
    {
     "name": "stderr",
     "output_type": "stream",
     "text": [
      " 12%|██████▍                                                | 58/500 [00:03<00:30, 14.61it/s]\n"
     ]
    },
    {
     "name": "stdout",
     "output_type": "stream",
     "text": [
      "Done in 58 steps\n"
     ]
    },
    {
     "name": "stderr",
     "output_type": "stream",
     "text": [
      " 17%|█████████▎                                             | 85/500 [00:05<00:28, 14.51it/s]\n"
     ]
    },
    {
     "name": "stdout",
     "output_type": "stream",
     "text": [
      "Done in 85 steps\n"
     ]
    },
    {
     "name": "stderr",
     "output_type": "stream",
     "text": [
      " 11%|█████▊                                                 | 53/500 [00:03<00:30, 14.57it/s]\n"
     ]
    },
    {
     "name": "stdout",
     "output_type": "stream",
     "text": [
      "Done in 53 steps\n"
     ]
    },
    {
     "name": "stderr",
     "output_type": "stream",
     "text": [
      " 20%|██████████▊                                           | 100/500 [00:07<00:28, 14.22it/s]\n"
     ]
    },
    {
     "name": "stdout",
     "output_type": "stream",
     "text": [
      "Done in 100 steps\n"
     ]
    },
    {
     "name": "stderr",
     "output_type": "stream",
     "text": [
      " 11%|██████                                                 | 55/500 [00:03<00:31, 14.24it/s]\n"
     ]
    },
    {
     "name": "stdout",
     "output_type": "stream",
     "text": [
      "Done in 55 steps\n"
     ]
    },
    {
     "name": "stderr",
     "output_type": "stream",
     "text": [
      " 29%|███████████████▌                                      | 144/500 [00:09<00:24, 14.60it/s]"
     ]
    },
    {
     "name": "stdout",
     "output_type": "stream",
     "text": [
      "Done in 144 steps\n"
     ]
    },
    {
     "name": "stderr",
     "output_type": "stream",
     "text": [
      "\n"
     ]
    }
   ],
   "source": [
    "datas = []\n",
    "while len(datas) < 10:\n",
    "    try:\n",
    "        datas.append(gen_obs())\n",
    "    except Exception as e:\n",
    "        print(\"there was an error, but continuing\", e)"
   ]
  },
  {
   "cell_type": "code",
   "execution_count": 17,
   "id": "63d6aeae-9804-412f-8aaa-cf875fbe08d5",
   "metadata": {
    "scrolled": true
   },
   "outputs": [],
   "source": [
    "all_frames = []\n",
    "for i, data in enumerate(datas):\n",
    "    frames = construct_vid(data)\n",
    "    all_frames.append(frames)\n",
    "    # Convert frames to video using OpenCV\n",
    "    fourcc = cv2.VideoWriter_fourcc(*'mp4v')  # FourCC code for .mp4\n",
    "    out = cv2.VideoWriter(f'tmpvideos/{i}-output.mp4', fourcc, 3.0, (1130, 256))\n",
    "    \n",
    "    for frame in frames:\n",
    "        bgr_frame = cv2.cvtColor(frame, cv2.COLOR_RGB2BGR)  # Convert to BGR\n",
    "        upscaled_frame = cv2.resize(bgr_frame, (1130, 256))  # Upscale to double size\n",
    "        out.write(upscaled_frame)\n",
    "    \n",
    "    out.release()"
   ]
  },
  {
   "cell_type": "code",
   "execution_count": 34,
   "id": "3f5080fd-cf7f-4740-9c6d-dbd8e9913d92",
   "metadata": {},
   "outputs": [
    {
     "data": {
      "image/png": "[encoded data removed]",
      "text/plain": [
       "<Figure size 1500x600 with 10 Axes>"
      ]
     },
     "metadata": {},
     "output_type": "display_data"
    }
   ],
   "source": [
    "from matplotlib import pyplot as plt\n",
    "\n",
    "images = [frame[0][:, 512:] for frame in all_frames]\n",
    "# Display the cropped images in a 2x5 grid\n",
    "fig, axes = plt.subplots(2, 5, figsize=(15, 6))\n",
    "\n",
    "for ax, img in zip(axes.ravel(), images):\n",
    "    ax.imshow(img)\n",
    "    ax.axis('off')\n",
    "\n",
    "plt.tight_layout()\n",
    "plt.show()"
   ]
  },
  {
   "cell_type": "code",
   "execution_count": 30,
   "id": "6bb23462-6c0c-4be2-821c-1444e69dfba4",
   "metadata": {
    "scrolled": true
   },
   "outputs": [],
   "source": [
    "all_frames.sort(key=lambda x: len(x))"
   ]
  },
  {
   "cell_type": "code",
   "execution_count": null,
   "id": "97a96969-6f57-4006-a43e-520a6644fa1c",
   "metadata": {},
   "outputs": [],
   "source": []
  }
 ],
 "metadata": {
  "kernelspec": {
   "display_name": "Python 3 (ipykernel)",
   "language": "python",
   "name": "python3"
  },
  "language_info": {
   "codemirror_mode": {
    "name": "ipython",
    "version": 3
   },
   "file_extension": ".py",
   "mimetype": "text/x-python",
   "name": "python",
   "nbconvert_exporter": "python",
   "pygments_lexer": "ipython3",
   "version": "3.9.17"
  }
 },
 "nbformat": 4,
 "nbformat_minor": 5
}
