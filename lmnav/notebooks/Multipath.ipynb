{
 "cells": [
  {
   "cell_type": "code",
   "execution_count": 1,
   "id": "b4f072a2-6755-495a-a57b-e41dd48fa0e0",
   "metadata": {},
   "outputs": [
    {
     "name": "stdout",
     "output_type": "stream",
     "text": [
      "[2023-10-26 19:07:54,935] [INFO] [real_accelerator.py:110:get_accelerator] Setting ds_accelerator to cuda (auto detect)\n"
     ]
    }
   ],
   "source": [
    "import torch\n",
    "import os\n",
    "import pickle\n",
    "from tqdm import tqdm\n",
    "from collections import defaultdict\n",
    "from lmnav.config.default import get_config\n",
    "from lmnav.dataset.data_gen import _init_envs\n",
    "from habitat.gym import make_gym_from_config\n",
    "from habitat.utils.visualizations import maps\n",
    "from PIL import Image\n",
    "from sklearn.cluster import SpectralClustering\n",
    "from multiprocessing import Pool, Manager\n",
    "\n",
    "os.chdir(\"/srv/flash1/pputta7/projects/lm-nav\")\n",
    "directory = \"data/datasets/lmnav/offline_00744_multipath\""
   ]
  },
  {
   "cell_type": "code",
   "execution_count": 2,
   "id": "bf1b65d4-3375-4e68-b081-8348fcdf774c",
   "metadata": {},
   "outputs": [
    {
     "name": "stderr",
     "output_type": "stream",
     "text": [
      "100%|██████████████████████████████████████████████████| 1681/1681 [03:39<00:00,  7.65it/s]\n"
     ]
    }
   ],
   "source": [
    "from multiprocessing import Pool \n",
    "\n",
    "def load_file(file):\n",
    "    with open(os.path.join(directory, file), 'rb') as f:\n",
    "        x = pickle.load(f)\n",
    "        return (x['episode_id'], len(x['action']), file)\n",
    "files = os.listdir(directory)\n",
    "\n",
    "# Use all available CPU cores\n",
    "\n",
    "with Pool(processes=4) as pool:\n",
    "    mapping = list(tqdm(pool.imap(load_file, files), total=len(files)))"
   ]
  },
  {
   "cell_type": "code",
   "execution_count": 3,
   "id": "9b8cf5fc-2a92-4334-af90-6ff57b04a208",
   "metadata": {},
   "outputs": [],
   "source": [
    "mapping_dict = defaultdict(lambda: [].copy())\n",
    "for a, b, c in mapping:\n",
    "    mapping_dict[a].append((b, c))\n",
    "with open(\"test_mapping.pt\", \"wb+\") as f:\n",
    "    pickle.dump(dict(mapping_dict), f)"
   ]
  },
  {
   "cell_type": "code",
   "execution_count": 4,
   "id": "224eff65-c61b-4dfd-a3bb-13a867756fb5",
   "metadata": {},
   "outputs": [],
   "source": [
    "with open(\"test_mapping.pt\", \"rb\") as f:\n",
    "    mapping_dict = pickle.load(f)\n",
    "\n",
    "def get_episodes(idx):\n",
    "    episodes = []\n",
    "    for _, file in mapping_dict[idx]:\n",
    "        with open(os.path.join(directory, file), \"rb\") as f:\n",
    "            episodes.append(pickle.load(f))\n",
    "    return episodes"
   ]
  },
  {
   "cell_type": "code",
   "execution_count": 6,
   "id": "8cf7841e-9ab5-480c-b1f3-2b8c2b3a848d",
   "metadata": {
    "scrolled": true
   },
   "outputs": [
    {
     "data": {
      "text/plain": [
       "{1449: 9,\n",
       " 8226: 8,\n",
       " 8130: 2,\n",
       " 6842: 8,\n",
       " 8930: 1,\n",
       " 5105: 4,\n",
       " 5905: 9,\n",
       " 2020: 4,\n",
       " 4362: 3,\n",
       " 6931: 9,\n",
       " 3051: 3,\n",
       " 7367: 9,\n",
       " 7914: 4,\n",
       " 7290: 9,\n",
       " 3220: 9,\n",
       " 8579: 2,\n",
       " 8576: 9,\n",
       " 3173: 4,\n",
       " 472: 9,\n",
       " 3495: 1,\n",
       " 7066: 9,\n",
       " 853: 9,\n",
       " 2133: 6,\n",
       " 1951: 9,\n",
       " 3634: 2,\n",
       " 4819: 2,\n",
       " 2744: 2,\n",
       " 6291: 9,\n",
       " 1941: 8,\n",
       " 8102: 4,\n",
       " 3820: 9,\n",
       " 6175: 1,\n",
       " 4880: 8,\n",
       " 301: 8,\n",
       " 7752: 6,\n",
       " 8771: 3,\n",
       " 859: 4,\n",
       " 4045: 7,\n",
       " 3188: 8,\n",
       " 1828: 6,\n",
       " 262: 7,\n",
       " 6826: 5,\n",
       " 6043: 5,\n",
       " 3040: 8,\n",
       " 2484: 4,\n",
       " 7735: 6,\n",
       " 5165: 9,\n",
       " 6895: 8,\n",
       " 6803: 4,\n",
       " 7680: 1,\n",
       " 944: 5,\n",
       " 5107: 4,\n",
       " 3620: 9,\n",
       " 6807: 8,\n",
       " 7212: 8,\n",
       " 8462: 4,\n",
       " 6799: 8,\n",
       " 5525: 4,\n",
       " 8623: 9,\n",
       " 1821: 8,\n",
       " 4078: 4,\n",
       " 2023: 2,\n",
       " 1405: 4,\n",
       " 5772: 9,\n",
       " 497: 6,\n",
       " 4985: 9,\n",
       " 4552: 9,\n",
       " 2067: 4,\n",
       " 5480: 5,\n",
       " 4234: 6,\n",
       " 5649: 9,\n",
       " 5960: 8,\n",
       " 3378: 9,\n",
       " 7933: 4,\n",
       " 5473: 4,\n",
       " 5819: 2,\n",
       " 6778: 7,\n",
       " 279: 3,\n",
       " 6458: 4,\n",
       " 7792: 4,\n",
       " 8584: 9,\n",
       " 5740: 8,\n",
       " 8767: 8,\n",
       " 6159: 5,\n",
       " 3885: 6,\n",
       " 2177: 5,\n",
       " 4800: 9,\n",
       " 8043: 6,\n",
       " 260: 8,\n",
       " 697: 8,\n",
       " 6102: 4,\n",
       " 1567: 4,\n",
       " 4079: 5,\n",
       " 5521: 5,\n",
       " 7751: 4,\n",
       " 6746: 9,\n",
       " 7833: 4,\n",
       " 2766: 4,\n",
       " 5182: 9,\n",
       " 1715: 8,\n",
       " 4872: 9,\n",
       " 2812: 3,\n",
       " 3155: 9,\n",
       " 5281: 5,\n",
       " 1024: 4,\n",
       " 5878: 7,\n",
       " 4286: 9,\n",
       " 2478: 4,\n",
       " 3662: 9,\n",
       " 4454: 7,\n",
       " 4524: 8,\n",
       " 137: 8,\n",
       " 1322: 9,\n",
       " 805: 8,\n",
       " 8855: 9,\n",
       " 4113: 2,\n",
       " 2689: 4,\n",
       " 7879: 9,\n",
       " 5141: 1,\n",
       " 7: 2,\n",
       " 6669: 9,\n",
       " 1074: 2,\n",
       " 365: 2,\n",
       " 1990: 6,\n",
       " 5294: 9,\n",
       " 2549: 7,\n",
       " 6531: 7,\n",
       " 5587: 9,\n",
       " 7497: 1,\n",
       " 2879: 3,\n",
       " 1107: 4,\n",
       " 1413: 8,\n",
       " 384: 4,\n",
       " 7399: 8,\n",
       " 7094: 4,\n",
       " 3425: 8,\n",
       " 7386: 5,\n",
       " 1130: 8,\n",
       " 266: 4,\n",
       " 8844: 9,\n",
       " 7670: 6,\n",
       " 2985: 7,\n",
       " 6064: 2,\n",
       " 4775: 2,\n",
       " 4204: 3,\n",
       " 4752: 9,\n",
       " 987: 8,\n",
       " 5852: 9,\n",
       " 6867: 8,\n",
       " 8510: 7,\n",
       " 3066: 8,\n",
       " 6179: 5,\n",
       " 8981: 5,\n",
       " 2586: 7,\n",
       " 1116: 4,\n",
       " 1502: 4,\n",
       " 3861: 4,\n",
       " 7844: 7,\n",
       " 1500: 4,\n",
       " 4418: 4,\n",
       " 4566: 1,\n",
       " 2786: 2,\n",
       " 2456: 3,\n",
       " 8775: 6,\n",
       " 2883: 4,\n",
       " 5146: 4,\n",
       " 7342: 4,\n",
       " 7273: 2,\n",
       " 3611: 4,\n",
       " 3119: 5,\n",
       " 1937: 3,\n",
       " 7885: 7,\n",
       " 2259: 9,\n",
       " 6601: 4,\n",
       " 573: 3,\n",
       " 8077: 5,\n",
       " 5932: 6,\n",
       " 6806: 4,\n",
       " 6808: 1,\n",
       " 5794: 9,\n",
       " 7203: 4,\n",
       " 478: 6,\n",
       " 8403: 8,\n",
       " 7461: 3,\n",
       " 724: 7,\n",
       " 1311: 4,\n",
       " 3056: 8,\n",
       " 675: 6,\n",
       " 2005: 4,\n",
       " 1600: 4,\n",
       " 8806: 4,\n",
       " 2376: 4,\n",
       " 8222: 5,\n",
       " 1327: 8,\n",
       " 5615: 4,\n",
       " 4202: 3,\n",
       " 7770: 4,\n",
       " 1396: 7,\n",
       " 5710: 5,\n",
       " 6416: 3,\n",
       " 7771: 5,\n",
       " 2931: 8,\n",
       " 8296: 4,\n",
       " 8697: 3,\n",
       " 2300: 9,\n",
       " 1514: 6,\n",
       " 4954: 8,\n",
       " 1621: 1,\n",
       " 5913: 2,\n",
       " 2124: 8,\n",
       " 1431: 3,\n",
       " 8807: 9,\n",
       " 2537: 9,\n",
       " 7569: 6,\n",
       " 182: 4,\n",
       " 7107: 4,\n",
       " 3802: 9,\n",
       " 5175: 8,\n",
       " 901: 8,\n",
       " 2729: 4,\n",
       " 1908: 8,\n",
       " 591: 6,\n",
       " 3426: 7,\n",
       " 8329: 4,\n",
       " 7988: 2,\n",
       " 3096: 9,\n",
       " 5109: 8,\n",
       " 8237: 4,\n",
       " 8308: 4,\n",
       " 8252: 3,\n",
       " 1411: 3,\n",
       " 1975: 8,\n",
       " 1163: 7,\n",
       " 3284: 1,\n",
       " 5771: 9,\n",
       " 1452: 4,\n",
       " 3899: 6,\n",
       " 5410: 4,\n",
       " 2611: 8,\n",
       " 5405: 3,\n",
       " 8682: 4,\n",
       " 509: 1,\n",
       " 5479: 4,\n",
       " 372: 1,\n",
       " 4814: 4,\n",
       " 7169: 4,\n",
       " 1912: 7,\n",
       " 1903: 4,\n",
       " 5999: 1,\n",
       " 4688: 4,\n",
       " 8227: 9,\n",
       " 8799: 1,\n",
       " 6418: 5,\n",
       " 2246: 2,\n",
       " 5227: 8,\n",
       " 1231: 3,\n",
       " 6259: 4,\n",
       " 5860: 2,\n",
       " 3630: 8,\n",
       " 1596: 9,\n",
       " 3049: 3,\n",
       " 3847: 2,\n",
       " 3913: 9,\n",
       " 3359: 2,\n",
       " 4485: 8,\n",
       " 2599: 7,\n",
       " 8286: 4,\n",
       " 7432: 4,\n",
       " 874: 4,\n",
       " 2593: 8,\n",
       " 8405: 1,\n",
       " 704: 7,\n",
       " 3796: 2,\n",
       " 8542: 7,\n",
       " 6876: 3,\n",
       " 5039: 2,\n",
       " 8183: 4,\n",
       " 7683: 2,\n",
       " 444: 7,\n",
       " 6511: 2,\n",
       " 3609: 4,\n",
       " 3214: 3,\n",
       " 2372: 3,\n",
       " 2984: 7,\n",
       " 4857: 5,\n",
       " 3955: 4,\n",
       " 1280: 2,\n",
       " 4542: 3,\n",
       " 8417: 4,\n",
       " 2095: 3,\n",
       " 5041: 1,\n",
       " 7902: 4,\n",
       " 951: 3,\n",
       " 2481: 2,\n",
       " 452: 4,\n",
       " 932: 4,\n",
       " 872: 2,\n",
       " 8280: 2,\n",
       " 8139: 4,\n",
       " 6072: 2,\n",
       " 1493: 3,\n",
       " 2557: 3,\n",
       " 7560: 1,\n",
       " 5904: 2,\n",
       " 5168: 4,\n",
       " 2272: 4,\n",
       " 772: 2,\n",
       " 5472: 3,\n",
       " 7155: 4,\n",
       " 4326: 2,\n",
       " 5814: 4,\n",
       " 5527: 1,\n",
       " 4652: 1,\n",
       " 4923: 2,\n",
       " 906: 3,\n",
       " 4262: 1,\n",
       " 1374: 1,\n",
       " 6725: 1,\n",
       " 7721: 2,\n",
       " 7389: 1,\n",
       " 2305: 3,\n",
       " 1948: 2,\n",
       " 4616: 1,\n",
       " 6791: 1,\n",
       " 2667: 3,\n",
       " 613: 2,\n",
       " 6004: 1,\n",
       " 7788: 1,\n",
       " 7116: 1,\n",
       " 5632: 1,\n",
       " 2997: 1,\n",
       " 6408: 1,\n",
       " 2303: 1,\n",
       " 8200: 1,\n",
       " 7898: 1,\n",
       " 5239: 1,\n",
       " 1745: 1,\n",
       " 3934: 2,\n",
       " 1147: 1,\n",
       " 1726: 1,\n",
       " 5543: 1}"
      ]
     },
     "execution_count": 6,
     "metadata": {},
     "output_type": "execute_result"
    }
   ],
   "source": [
    "{k: len(v) for k, v in mapping_dict.items()}"
   ]
  },
  {
   "cell_type": "code",
   "execution_count": 34,
   "id": "51d2e0ea-9e2c-43dd-9b6b-984f37224a9a",
   "metadata": {},
   "outputs": [
    {
     "data": {
      "text/plain": [
       "[(48, 'data.615.pkl'),\n",
       " (79, 'data.738.pkl'),\n",
       " (99, 'data.594.pkl'),\n",
       " (110, 'data.1616.pkl'),\n",
       " (141, 'data.682.pkl'),\n",
       " (56, 'data.713.pkl'),\n",
       " (64, 'data.518.pkl'),\n",
       " (104, 'data.559.pkl'),\n",
       " (101, 'data.368.pkl')]"
      ]
     },
     "execution_count": 34,
     "metadata": {},
     "output_type": "execute_result"
    }
   ],
   "source": [
    "idx = 8576\n",
    "episodes = get_episodes(idx)\n",
    "mapping_dict[idx]"
   ]
  },
  {
   "cell_type": "code",
   "execution_count": 35,
   "id": "256516f7-d13e-4703-b7f9-a8b09a57c5ba",
   "metadata": {},
   "outputs": [
    {
     "data": {
      "text/plain": [
       "8576"
      ]
     },
     "execution_count": 35,
     "metadata": {},
     "output_type": "execute_result"
    }
   ],
   "source": [
    "episodes[2]['episode_id']"
   ]
  },
  {
   "cell_type": "code",
   "execution_count": 36,
   "id": "4016a67e-15c3-42ae-a4f7-da5d7ce2933c",
   "metadata": {
    "scrolled": true
   },
   "outputs": [
    {
     "name": "stderr",
     "output_type": "stream",
     "text": [
      "2023-10-26 19:21:14,656 Initializing dataset CustomFilterDataset\n",
      "2023-10-26 19:21:15,166 initializing sim Sim-v0\n",
      "[19:21:15:188035]:[Warning]:[Assets] ResourceManager.cpp(353)::loadSemanticSceneDescriptor : 2023-10-26 19:21:16,396 Initializing task Nav-v0\n",
      "SSD File Naming Issue! Neither SceneInstanceAttributes-provided name : `data/scene_datasets/hm3d/train/00744-1S7LAXRdDqK/1S7LAXRdDqK.basis.scn` nor constructed filename : `data/scene_datasets/hm3d/train/00744-1S7LAXRdDqK/info_semantic.json` exist on disk.\n",
      "[19:21:16:393210]:[Warning]:[Sim] Simulator.cpp(508)::instanceStageForSceneAttributes : The active scene does not contain semantic annotations : activeSemanticSceneID_ = 0\n"
     ]
    },
    {
     "name": "stdout",
     "output_type": "stream",
     "text": [
      "Renderer: NVIDIA GeForce RTX 2080 Ti/PCIe/SSE2 by NVIDIA Corporation\n",
      "OpenGL version: 4.6.0 NVIDIA 525.125.06\n",
      "Using optional features:\n",
      "    GL_ARB_vertex_array_object\n",
      "    GL_ARB_separate_shader_objects\n",
      "    GL_ARB_robustness\n",
      "    GL_ARB_texture_storage\n",
      "    GL_ARB_texture_view\n",
      "    GL_ARB_framebuffer_no_attachments\n",
      "    GL_ARB_invalidate_subdata\n",
      "    GL_ARB_texture_storage_multisample\n",
      "    GL_ARB_multi_bind\n",
      "    GL_ARB_direct_state_access\n",
      "    GL_ARB_get_texture_sub_image\n",
      "    GL_ARB_texture_filter_anisotropic\n",
      "    GL_KHR_debug\n",
      "    GL_KHR_parallel_shader_compile\n",
      "    GL_NV_depth_buffer_float\n",
      "Using driver workarounds:\n",
      "    no-forward-compatible-core-context\n",
      "    nv-egl-incorrect-gl11-function-pointers\n",
      "    no-layout-qualifiers-on-old-glsl\n",
      "    nv-zero-context-profile-mask\n",
      "    nv-implementation-color-read-format-dsa-broken\n",
      "    nv-cubemap-inconsistent-compressed-image-size\n",
      "    nv-cubemap-broken-full-compressed-image-query\n",
      "    nv-compressed-block-size-in-bits\n"
     ]
    }
   ],
   "source": [
    "config = get_config(\"datagen/imagenav_data_gen_env744_multipath_sample\")\n",
    "config.habitat_baselines.num_environments = 1\n",
    "config.habitat.simulator.agents.main_agent.sim_sensors.rgb_sensor.width = 256\n",
    "config.habitat.simulator.agents.main_agent.sim_sensors.rgb_sensor.height = 256\n",
    "\n",
    "env = make_gym_from_config(config)"
   ]
  },
  {
   "cell_type": "code",
   "execution_count": 37,
   "id": "f5804eb6-c943-459e-8d9a-930e5e00a3ae",
   "metadata": {},
   "outputs": [],
   "source": [
    "dataset_episodes = env.env.env._env._dataset.episodes\n",
    "\n",
    "def get_episode_id2idx():\n",
    "    return {v.episode_id: i for i, v in enumerate(dataset_episodes)}\n",
    "    \n",
    "def get_path_points(episode):\n",
    "    positions, topdownmap = [], []\n",
    "    done, step = False, 0\n",
    "    env.env.env._env.current_episode = dataset_episodes[get_episode_id2idx()[episode['episode_id']]]\n",
    "    env.env.env._env._episode_from_iter_on_reset = False\n",
    "    obs = env.reset()\n",
    "    actions = episode['action']\n",
    "\n",
    "    for action in tqdm(actions.tolist()):\n",
    "        # roll out a step\n",
    "        outputs = env.step(action)\n",
    "        next_observations, rewards_l, done, infos = outputs\n",
    "    \n",
    "        # insert episode into list\n",
    "        topdownmap.append(infos['top_down_map'])\n",
    "        positions.append(env.env.env._env.sim.get_agent_state().position)\n",
    "        step += 1\n",
    "\n",
    "        obs = next_observations\n",
    "\n",
    "    print(\"Done in\", step, \"steps\")\n",
    "    return positions, topdownmap"
   ]
  },
  {
   "cell_type": "code",
   "execution_count": 38,
   "id": "dd95afbe-2479-4a54-9505-6cf1e05caa67",
   "metadata": {
    "scrolled": true
   },
   "outputs": [
    {
     "name": "stderr",
     "output_type": "stream",
     "text": [
      "100%|██████████████████████████████████████████████████████| 48/48 [00:02<00:00, 16.13it/s]\n"
     ]
    },
    {
     "name": "stdout",
     "output_type": "stream",
     "text": [
      "Done in 48 steps\n"
     ]
    },
    {
     "name": "stderr",
     "output_type": "stream",
     "text": [
      "100%|██████████████████████████████████████████████████████| 79/79 [00:04<00:00, 16.32it/s]\n"
     ]
    },
    {
     "name": "stdout",
     "output_type": "stream",
     "text": [
      "Done in 79 steps\n"
     ]
    },
    {
     "name": "stderr",
     "output_type": "stream",
     "text": [
      "100%|██████████████████████████████████████████████████████| 99/99 [00:05<00:00, 16.87it/s]\n"
     ]
    },
    {
     "name": "stdout",
     "output_type": "stream",
     "text": [
      "Done in 99 steps\n"
     ]
    },
    {
     "name": "stderr",
     "output_type": "stream",
     "text": [
      "100%|████████████████████████████████████████████████████| 110/110 [00:06<00:00, 17.26it/s]\n"
     ]
    },
    {
     "name": "stdout",
     "output_type": "stream",
     "text": [
      "Done in 110 steps\n"
     ]
    },
    {
     "name": "stderr",
     "output_type": "stream",
     "text": [
      "100%|████████████████████████████████████████████████████| 141/141 [00:07<00:00, 17.64it/s]\n"
     ]
    },
    {
     "name": "stdout",
     "output_type": "stream",
     "text": [
      "Done in 141 steps\n"
     ]
    },
    {
     "name": "stderr",
     "output_type": "stream",
     "text": [
      "100%|██████████████████████████████████████████████████████| 56/56 [00:02<00:00, 19.28it/s]\n"
     ]
    },
    {
     "name": "stdout",
     "output_type": "stream",
     "text": [
      "Done in 56 steps\n"
     ]
    },
    {
     "name": "stderr",
     "output_type": "stream",
     "text": [
      "100%|██████████████████████████████████████████████████████| 64/64 [00:03<00:00, 17.62it/s]\n"
     ]
    },
    {
     "name": "stdout",
     "output_type": "stream",
     "text": [
      "Done in 64 steps\n"
     ]
    },
    {
     "name": "stderr",
     "output_type": "stream",
     "text": [
      "100%|████████████████████████████████████████████████████| 104/104 [00:05<00:00, 17.56it/s]\n"
     ]
    },
    {
     "name": "stdout",
     "output_type": "stream",
     "text": [
      "Done in 104 steps\n"
     ]
    },
    {
     "name": "stderr",
     "output_type": "stream",
     "text": [
      "100%|████████████████████████████████████████████████████| 101/101 [00:06<00:00, 16.46it/s]"
     ]
    },
    {
     "name": "stdout",
     "output_type": "stream",
     "text": [
      "Done in 101 steps\n"
     ]
    },
    {
     "name": "stderr",
     "output_type": "stream",
     "text": [
      "\n"
     ]
    }
   ],
   "source": [
    "datas = [get_path_points(episode) for episode in episodes]"
   ]
  },
  {
   "cell_type": "code",
   "execution_count": 39,
   "id": "609d9d7b-f54c-4c08-b365-44cfc8af1005",
   "metadata": {},
   "outputs": [],
   "source": [
    "map_images = [Image.fromarray(maps.colorize_draw_agent_and_fit_to_height(data[1][0], 256)) for data in datas]"
   ]
  },
  {
   "cell_type": "markdown",
   "id": "c0350830-5af4-425f-b912-019447e9c405",
   "metadata": {},
   "source": [
    "## Cluster"
   ]
  },
  {
   "cell_type": "code",
   "execution_count": 40,
   "id": "76060a10-7f76-4453-a54d-1bd11aba88a0",
   "metadata": {},
   "outputs": [],
   "source": [
    "from dtw import dtw\n",
    "import numpy as np\n",
    "\n",
    "\n",
    "def euclidean_dist(a, b):\n",
    "    return np.linalg.norm(np.array(a) - np.array(b), ord=2)\n",
    "\n",
    "\n",
    "def interpolate_point_pair(v1, v2, t):\n",
    "    \"\"\"\n",
    "    interpolate between two points\n",
    "\n",
    "    Args:\n",
    "        v1: point 1\n",
    "        v2: point 2\n",
    "        t: parameterized variable\n",
    "\n",
    "    Returns:\n",
    "\n",
    "    \"\"\"\n",
    "    return tuple((1 - t) * x1 + t * x2 for x1, x2 in zip(v1, v2))\n",
    "\n",
    "\n",
    "def interpolate_trajectory(trajectory, n):\n",
    "    \"\"\"\n",
    "    given a trajectory, produces n points uniformly along the trajectory\n",
    "\n",
    "    Args:\n",
    "        trajectory: path\n",
    "        n: number of points\n",
    "\n",
    "    Returns:\n",
    "\n",
    "    \"\"\"\n",
    "    num_points = len(trajectory)\n",
    "    print(trajectory)\n",
    "\n",
    "    accum_seg_lens = [0]\n",
    "    for i in range(1, num_points):\n",
    "        accum_seg_lens.append(accum_seg_lens[-1] + euclidean_dist(trajectory[i - 1], trajectory[i]))\n",
    "    # normalize accum_seg_lens\n",
    "    for i in range(len(accum_seg_lens)):\n",
    "        accum_seg_lens[i] /= accum_seg_lens[-1]\n",
    "\n",
    "    # determine segment to use at each point\n",
    "    seg = 0\n",
    "    for i in range(n + 1):\n",
    "        total_percent = i / n\n",
    "        if total_percent > accum_seg_lens[seg + 1]:\n",
    "            seg += 1\n",
    "        assert seg < len(accum_seg_lens) - 1  # if accum_seg_lens was computed properly, this should never be broken\n",
    "        t = (total_percent - accum_seg_lens[seg]) / (accum_seg_lens[seg + 1] - accum_seg_lens[seg])\n",
    "        yield interpolate_point_pair(trajectory[seg], trajectory[seg + 1], t)\n",
    "\n",
    "\n",
    "def compute_uniform_cdtw(path1, path2, success_dist, num_points=50, return_dtw=False):\n",
    "    \"\"\"\n",
    "    computes ndtw between two paths by resampling points uniformly along the trajectory\n",
    "    Args:\n",
    "        path1:\n",
    "        path2:\n",
    "        success_dist:\n",
    "        num_points:\n",
    "\n",
    "    Returns:\n",
    "\n",
    "    \"\"\"\n",
    "    adj_path1 = list(interpolate_trajectory(path1, num_points))\n",
    "    adj_path2 = list(interpolate_trajectory(path2, num_points))\n",
    "\n",
    "    return compute_ndtw(adj_path1, adj_path2, success_dist, return_dtw)\n",
    "\n",
    "\n",
    "def compute_ndtw(query, ref, success_dist, return_dtw=False):\n",
    "    \"\"\"\n",
    "    computes normalized dynamic time warping metric\n",
    "    Args:\n",
    "        query:\n",
    "        ref:\n",
    "        success_dist:\n",
    "\n",
    "    Returns:\n",
    "\n",
    "    \"\"\"\n",
    "    dtw_dist, cost_matrix, acc_cost_matrix, path = dtw(query, ref, dist=euclidean_dist)\n",
    "\n",
    "    nDTW = np.exp(-(dtw_dist / (len(ref) * success_dist)))\n",
    "\n",
    "    if return_dtw:\n",
    "        return nDTW, dtw_dist\n",
    "\n",
    "    return nDTW"
   ]
  },
  {
   "cell_type": "code",
   "execution_count": 41,
   "id": "1095ecc0-cd38-4f82-8795-41dd611666b5",
   "metadata": {
    "scrolled": true
   },
   "outputs": [
    {
     "name": "stderr",
     "output_type": "stream",
     "text": [
      "100%|████████████████████████████████████████████████████████| 9/9 [00:04<00:00,  2.24it/s]\n"
     ]
    }
   ],
   "source": [
    "# compute distance matrix\n",
    "dist = torch.zeros(len(episodes), len(episodes))\n",
    "for i in tqdm(range(len(episodes))):\n",
    "    for j in range(i, len(episodes)):\n",
    "        x = np.array(datas[i][0])[:, [0, 2]]\n",
    "        y = np.array(datas[j][0])[:, [0, 2]]\n",
    "        d = (compute_ndtw(x, y, 1.0) + compute_ndtw(y, x, 1.0)) / 2\n",
    "        dist[i, j] = dist[j, i] = d\n"
   ]
  },
  {
   "cell_type": "code",
   "execution_count": 44,
   "id": "bb39ea24-a6d0-44a1-a7f5-054fc4080e6b",
   "metadata": {},
   "outputs": [
    {
     "name": "stderr",
     "output_type": "stream",
     "text": [
      "/coc/testnvme/pputta7/mambaforge/envs/lmnav/lib/python3.9/site-packages/sklearn/cluster/_spectral.py:688: UserWarning: The spectral clustering API has changed. ``fit``now constructs an affinity matrix from data. To use a custom affinity matrix, set ``affinity=precomputed``.\n",
      "  warnings.warn(\n"
     ]
    },
    {
     "data": {
      "image/png": "[encoded data removed]",
      "text/plain": [
       "<Figure size 1500x600 with 3 Axes>"
      ]
     },
     "metadata": {},
     "output_type": "display_data"
    },
    {
     "data": {
      "image/png": "[encoded data removed]",
      "text/plain": [
       "<Figure size 1500x600 with 6 Axes>"
      ]
     },
     "metadata": {},
     "output_type": "display_data"
    }
   ],
   "source": [
    "from matplotlib import pyplot as plt\n",
    "from collections import defaultdict\n",
    "\n",
    "# Assuming you've already defined map_images and dist\n",
    "\n",
    "images = map_images\n",
    "clustering = SpectralClustering(n_clusters=2,\n",
    "         assign_labels='discretize',\n",
    "         random_state=0).fit(dist)\n",
    "\n",
    "# Group images by cluster\n",
    "clustered_images = defaultdict(list)\n",
    "for label, img in zip(clustering.labels_, images):\n",
    "    clustered_images[label].append(img)\n",
    "\n",
    "for cluster, images_in_cluster in clustered_images.items():    \n",
    "    # If there's only one image in the cluster\n",
    "    if len(images_in_cluster) == 1:\n",
    "        fig, ax = plt.subplots(figsize=(15, 6))\n",
    "        ax.imshow(images_in_cluster[0])\n",
    "        ax.axis('off')\n",
    "        ax.set_title(f\"cluster {cluster}\")\n",
    "        plt.show()\n",
    "    else:\n",
    "        fig, axes = plt.subplots(1, len(images_in_cluster), figsize=(15, 6))\n",
    "        captions = [f\"cluster {cluster}\" for _ in range(len(images_in_cluster))]\n",
    "        \n",
    "        for ax, img, caption in zip(axes.ravel(), images_in_cluster, captions):\n",
    "            ax.imshow(img)\n",
    "            ax.axis('off')\n",
    "            ax.set_title(caption)\n",
    "        \n",
    "        plt.tight_layout()\n",
    "        plt.show()\n"
   ]
  },
  {
   "cell_type": "code",
   "execution_count": 43,
   "id": "d11e649e-7fa7-4a67-91ea-d0c2c2da4bd4",
   "metadata": {},
   "outputs": [
    {
     "data": {
      "text/plain": [
       "tensor([[1.0000, 0.4393, 0.3768, 0.2547, 0.2519, 0.8581, 0.8264, 0.3889, 0.2665],\n",
       "        [0.4393, 1.0000, 0.7232, 0.6714, 0.5576, 0.4086, 0.4191, 0.7023, 0.6892],\n",
       "        [0.3768, 0.7232, 1.0000, 0.5907, 0.6263, 0.3612, 0.3676, 0.8324, 0.7823],\n",
       "        [0.2547, 0.6714, 0.5907, 1.0000, 0.6043, 0.2577, 0.2617, 0.5983, 0.6851],\n",
       "        [0.2519, 0.5576, 0.6263, 0.6043, 1.0000, 0.2425, 0.2674, 0.6882, 0.6496],\n",
       "        [0.8581, 0.4086, 0.3612, 0.2577, 0.2425, 1.0000, 0.7799, 0.3947, 0.2328],\n",
       "        [0.8264, 0.4191, 0.3676, 0.2617, 0.2674, 0.7799, 1.0000, 0.4013, 0.2710],\n",
       "        [0.3889, 0.7023, 0.8324, 0.5983, 0.6882, 0.3947, 0.4013, 1.0000, 0.7188],\n",
       "        [0.2665, 0.6892, 0.7823, 0.6851, 0.6496, 0.2328, 0.2710, 0.7188, 1.0000]])"
      ]
     },
     "execution_count": 43,
     "metadata": {},
     "output_type": "execute_result"
    }
   ],
   "source": [
    "dist"
   ]
  },
  {
   "cell_type": "code",
   "execution_count": 46,
   "id": "3e2e8c4b-600a-4001-b4f6-93b12c599d19",
   "metadata": {},
   "outputs": [
    {
     "data": {
      "image/jpeg": "[encoded data removed]",
      "image/png": "[encoded data removed]",
      "text/plain": [
       "<PIL.Image.Image image mode=RGB size=304x256>"
      ]
     },
     "execution_count": 46,
     "metadata": {},
     "output_type": "execute_result"
    }
   ],
   "source": [
    "Image.fromarray(maps.colorize_draw_agent_and_fit_to_height(datas[0][1][1], 256))"
   ]
  },
  {
   "cell_type": "code",
   "execution_count": null,
   "id": "8c577d63-8819-410e-9ee6-8501ae7e53a0",
   "metadata": {},
   "outputs": [],
   "source": []
  }
 ],
 "metadata": {
  "kernelspec": {
   "display_name": "Python 3 (ipykernel)",
   "language": "python",
   "name": "python3"
  },
  "language_info": {
   "codemirror_mode": {
    "name": "ipython",
    "version": 3
   },
   "file_extension": ".py",
   "mimetype": "text/x-python",
   "name": "python",
   "nbconvert_exporter": "python",
   "pygments_lexer": "ipython3",
   "version": "3.9.17"
  }
 },
 "nbformat": 4,
 "nbformat_minor": 5
}
