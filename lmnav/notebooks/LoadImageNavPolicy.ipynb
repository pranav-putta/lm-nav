{
 "cells": [
  {
   "cell_type": "code",
   "execution_count": 6,
   "id": "239c480a",
   "metadata": {},
   "outputs": [],
   "source": [
    "from lmnav.emb_transfer.old_eai_policy_2_2 import EAIPolicy\n",
    "\n",
    "device = 'cuda'\n",
    "torch.set_grad_enabled(False)\n",
    "\n",
    "teacher_ckpt = \"/coc/testnvme/pputta7/.experiments/embodiment-transfer/202304171546-jzPl/out/new_checkpoints/ckpt.300.pth\"\n",
    "teacher_state_dict = torch.load(teacher_ckpt)"
   ]
  },
  {
   "cell_type": "code",
   "execution_count": 7,
   "id": "eb926b94",
   "metadata": {},
   "outputs": [],
   "source": [
    "def batch_to(device):\n",
    "    batch['rgb'] = batch['rgb'].to(device)\n",
    "    batch['depth'] = batch['depth'].to(device)\n",
    "    batch['imagegoal'] = batch['imagegoal'].to(device)\n",
    "    \n",
    "test_recurrent_hidden_states = torch.zeros((1, 2, 512), device=device)\n",
    "prev_actions = torch.zeros(1, 1, device=device, dtype=torch.long)\n",
    "not_done_masks = torch.zeros(1, 1, device=device, dtype=torch.bool)\n",
    "rgb_frames = []"
   ]
  },
  {
   "cell_type": "code",
   "execution_count": null,
   "id": "3950f021",
   "metadata": {},
   "outputs": [],
   "source": [
    "observations = env.reset()"
   ]
  },
  {
   "cell_type": "code",
   "execution_count": null,
   "id": "9549ecb0",
   "metadata": {},
   "outputs": [],
   "source": [
    "step = 0\n",
    "done = False\n",
    "\n",
    "# while step < 500 and not done:\n",
    "# batch data up\n",
    "batch = batch_obs([observations])\n",
    "batch = apply_obs_transforms_batch(batch, obs_transforms)\n",
    "batch_to('cuda')\n",
    "\n",
    "rgb_frames.append(observations['rgb'].copy())\n",
    "\n",
    "# query policy for next action\n",
    "policy_result = teacher.act(batch, test_recurrent_hidden_states, prev_actions, not_done_masks, deterministic=False)\n",
    "next_action = policy_result.actions.item()\n",
    "print(next_action)\n",
    "test_recurrent_hidden_states = policy_result.rnn_hidden_states\n",
    "prev_actions[0][0] = next_action\n",
    "\n",
    "# pass data through environment\n",
    "observations = env.step(next_action)\n",
    "infos = env.get_metrics()\n",
    "step += 1\n",
    "done = infos['success'] > 0"
   ]
  },
  {
   "cell_type": "code",
   "execution_count": null,
   "id": "88616a19",
   "metadata": {},
   "outputs": [],
   "source": [
    "features, hx, _ = teacher.net(batch, test_recurrent_hidden_states, prev_actions, not_done_masks)\n",
    "action_dist = teacher.action_distribution(features)\n",
    "action_dist.logits"
   ]
  },
  {
   "cell_type": "code",
   "execution_count": null,
   "id": "97b0d7ce",
   "metadata": {},
   "outputs": [],
   "source": [
    "import cv2\n",
    "\n",
    "imgs = rgb_frames\n",
    "\n",
    "# Get the list of images\n",
    "# Create the video writer\n",
    "video_writer = cv2.VideoWriter('output.mp4', cv2.VideoWriter_fourcc(*'mp4v'), 24, (imgs[0].shape[1], imgs[0].shape[0]))\n",
    "\n",
    "# Write the images to the video writer\n",
    "for image in imgs:\n",
    "    image = np.array(image)\n",
    "    image = cv2.cvtColor(image, cv2.COLOR_BGR2RGB)\n",
    "    video_writer.write(image)\n",
    "\n",
    "# Close the video writer\n",
    "video_writer.release()"
   ]
  }
 ],
 "metadata": {
  "kernelspec": {
   "display_name": "Python 3 (ipykernel)",
   "language": "python",
   "name": "python3"
  },
  "language_info": {
   "codemirror_mode": {
    "name": "ipython",
    "version": 3
   },
   "file_extension": ".py",
   "mimetype": "text/x-python",
   "name": "python",
   "nbconvert_exporter": "python",
   "pygments_lexer": "ipython3",
   "version": "3.9.17"
  }
 },
 "nbformat": 4,
 "nbformat_minor": 5
}
