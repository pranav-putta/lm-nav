{
 "cells": [
  {
   "cell_type": "code",
   "execution_count": 1,
   "id": "a4cd4f56-d09d-42b5-9358-c0536152172c",
   "metadata": {},
   "outputs": [
    {
     "name": "stderr",
     "output_type": "stream",
     "text": [
      "OMP: Info #277: omp_set_nested routine deprecated, please use omp_set_max_active_levels instead.\n",
      "/coc/testnvme/pputta7/mambaforge/envs/ffcv/lib/python3.9/site-packages/tqdm/auto.py:21: TqdmWarning: IProgress not found. Please update jupyter and ipywidgets. See https://ipywidgets.readthedocs.io/en/stable/user_install.html\n",
      "  from .autonotebook import tqdm as notebook_tqdm\n"
     ]
    }
   ],
   "source": [
    "from ffcv.writer import DatasetWriter\n",
    "from ffcv.fields import RGBImageField, IntField, TorchTensorField\n",
    "\n",
    "from torch.utils.data import Dataset\n",
    "import os\n",
    "import torch"
   ]
  },
  {
   "cell_type": "code",
   "execution_count": 2,
   "id": "eaf5d645-e14b-48dd-af4b-8c10999ec072",
   "metadata": {},
   "outputs": [],
   "source": [
    "class OfflineTrajectoryDataset(Dataset):\n",
    "    def __init__(self, data_dir):\n",
    "        self.data_dir = data_dir\n",
    "        self.files = [os.path.join(data_dir, file) for file in sorted(os.listdir(data_dir))]\n",
    "\n",
    "    def __len__(self):\n",
    "        return len(self.files)\n",
    "\n",
    "    def __getitem__(self, idx):\n",
    "        file = self.files[idx]\n",
    "        data = torch.load(file)\n",
    "        \n",
    "        length = data['rgbs'].shape[0]\n",
    "        padding_size = 500 - length\n",
    "        \n",
    "        rgbs = torch.nn.functional.pad(data['rgbs'], (0, 0, 0, padding_size), \"constant\", 0)\n",
    "        actions = torch.nn.functional.pad(torch.tensor(data['actions']), (0, padding_size), \"constant\", 0)\n",
    "        return rgbs, data['imagegoal'], actions, length"
   ]
  },
  {
   "cell_type": "code",
   "execution_count": 3,
   "id": "33e0c514-83e5-415c-8e0d-1850139946c4",
   "metadata": {},
   "outputs": [],
   "source": [
    "dataset = OfflineTrajectoryDataset(\"/srv/flash1/pputta7/projects/lm-nav/data/datasets/lmnav/offline_1env_karmesh+clip\")"
   ]
  },
  {
   "cell_type": "code",
   "execution_count": 5,
   "id": "32f569f7-8aff-427a-87a6-43d0fa070c68",
   "metadata": {},
   "outputs": [
    {
     "name": "stderr",
     "output_type": "stream",
     "text": [
      "100%|█████████████████████████████████████████████████████████████████████████████████████████████████████████████████████████████████████████████| 527/527 [00:02<00:00, 262.69it/s]\n"
     ]
    }
   ],
   "source": [
    "# Pass a type for each data field\n",
    "write_path = \"/srv/flash1/pputta7/projects/lm-nav/data/datasets/lmnav/test.beton\"\n",
    "writer = DatasetWriter(write_path, {\n",
    "    # Tune options to optimize dataset size, throughput at train-time\n",
    "    'rgbs': TorchTensorField(dtype=torch.float32,\n",
    "                             shape=(500, 1024)),\n",
    "    'imagegoal': TorchTensorField(dtype=torch.float32,\n",
    "                                  shape=(1024,)),\n",
    "    'actions': TorchTensorField(dtype=torch.int64,\n",
    "                                shape=(500,)),\n",
    "    'length': IntField()\n",
    "})\n",
    "\n",
    "# Write dataset\n",
    "writer.from_indexed_dataset(dataset)"
   ]
  },
  {
   "cell_type": "code",
   "execution_count": 20,
   "id": "6119300c-74b6-475f-a261-1ca39d712d1a",
   "metadata": {},
   "outputs": [],
   "source": [
    "out = dataset[0]"
   ]
  },
  {
   "cell_type": "code",
   "execution_count": 30,
   "id": "a7f132f1-b670-4ce9-b3d4-2f1bbb4f789a",
   "metadata": {},
   "outputs": [
    {
     "data": {
      "text/plain": [
       "torch.int64"
      ]
     },
     "execution_count": 30,
     "metadata": {},
     "output_type": "execute_result"
    }
   ],
   "source": [
    "out[2].dtype"
   ]
  },
  {
   "cell_type": "code",
   "execution_count": null,
   "id": "2f05c45a-3d00-4b00-abd8-06d4b9c29328",
   "metadata": {},
   "outputs": [],
   "source": []
  }
 ],
 "metadata": {
  "kernelspec": {
   "display_name": "Python 3 (ipykernel)",
   "language": "python",
   "name": "python3"
  },
  "language_info": {
   "codemirror_mode": {
    "name": "ipython",
    "version": 3
   },
   "file_extension": ".py",
   "mimetype": "text/x-python",
   "name": "python",
   "nbconvert_exporter": "python",
   "pygments_lexer": "ipython3",
   "version": "3.9.17"
  }
 },
 "nbformat": 4,
 "nbformat_minor": 5
}
